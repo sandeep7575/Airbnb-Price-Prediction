{
 "cells": [
  {
   "cell_type": "code",
   "execution_count": 9,
   "metadata": {
    "collapsed": true
   },
   "outputs": [],
   "source": [
    "'''This script is a part of airbnb lisitng prediction'''\n",
    "   \n",
    "__author__ = 'Sandeep Kumar Kola'\n",
    "__email__ = 'sandeep.kola07@gmail.com'"
   ]
  },
  {
   "cell_type": "code",
   "execution_count": 10,
   "metadata": {},
   "outputs": [],
   "source": [
    "# Import required packages.\n",
    "import numpy as np\n",
    "import pandas as pd\n",
    "import matplotlib\n",
    "import matplotlib.pyplot as plt\n",
    "from sklearn.preprocessing import LabelEncoder, OneHotEncoder\n",
    "from sklearn.model_selection import train_test_split\n",
    "from sklearn.preprocessing import StandardScaler\n",
    "import keras\n",
    "from keras.models import Sequential\n",
    "from keras.layers import Dense\n",
    "import warnings\n",
    "warnings.filterwarnings('ignore')"
   ]
  },
  {
   "cell_type": "code",
   "execution_count": 25,
   "metadata": {
    "collapsed": true
   },
   "outputs": [],
   "source": [
    "class Model:\n",
    "    def _init_(self, path):\n",
    "        self.path = path\n",
    "    \n",
    "    def _load_data(path):\n",
    "        dataset = pd.read_csv(path)\n",
    "        print(\"-- Taking the important dependant variables only-- \")\n",
    "        cleaned_dataset = pd.DataFrame(dataset, columns = ['price',\n",
    "           'room_type',\n",
    "           'neighbourhood_cleansed',\n",
    "           'accommodates',\n",
    "           'bathrooms',\n",
    "           'bedrooms',\n",
    "           'beds',\n",
    "           'review_scores_rating',\n",
    "           'instant_bookable',\n",
    "           'cancellation_policy',\n",
    "           'amenities'])\n",
    "        return cleaned_dataset\n",
    "    \n",
    "    def _check_nulls(data):\n",
    "        return data.isnull().sum()\n",
    "        \n",
    "    def _quantile(cleaned_dataset, upper=75, lower=25, k=3):\n",
    "        # Remove unwanted characters.\n",
    "        cleaned_dataset['price'] = cleaned_dataset['price'].replace({'\\$': '', \n",
    "                       '\\,': ''}, regex=True).astype(float)\n",
    "        iqr = np.subtract(*np.percentile(cleaned_dataset['price'],\n",
    "                                         [upper, lower]))\n",
    "        \n",
    "        upper_fence = np.percentile(cleaned_dataset['price'], upper) + k*iqr\n",
    "        lower_fence = np.percentile(cleaned_dataset['price'], lower) + k*iqr\n",
    "        print(\" -- Upper and lower fences are: \" + str(upper_fence) + \", \" + \n",
    "              str(lower_fence))\n",
    "        \n",
    "    def _exploratory_analysis(cleaned_dataset):\n",
    "        \n",
    "        print(\"-- Building histogram for price variable --\")\n",
    "        plt.hist(cleaned_dataset['price'], facecolor='blue', normed=True, \n",
    "                 bins=1000)\n",
    "        plt.xscale('log')\n",
    "        plt.show()\n",
    "        \n",
    "        print(\"-- Building boxplot for price variable --\")\n",
    "        plt.boxplot(cleaned_dataset['price'])\n",
    "        plt.show()\n",
    "                \n",
    "        print(\"-- Removing rows with price gretaer than 4000\")\n",
    "        cleaned_dataset = cleaned_dataset[cleaned_dataset.price <= 4000]\n",
    "        \n",
    "        mean = round(np.mean(cleaned_dataset['price']), 2)\n",
    "        cleaned_dataset['price'] = cleaned_dataset['price'].fillna(mean)\n",
    "\n",
    "        print(\"-- Imputing missing bedrooms by median --\")\n",
    "        bedroom_med = cleaned_dataset['bedrooms'].median()\n",
    "        cleaned_dataset['bedrooms'] = cleaned_dataset['bedrooms'].fillna(bedroom_med)\n",
    "       \n",
    "        print(\"-- Imputing missing beds by median --\")\n",
    "        bed_med = cleaned_dataset['beds'].median()\n",
    "        cleaned_dataset['beds'] = cleaned_dataset['beds'].fillna(bed_med)\n",
    "        \n",
    "        print(\"-- Imputing missing review_scores_rating by mean --\")\n",
    "        cleaned_dataset['review_scores_rating'].describe()\n",
    "        rv_mean = cleaned_dataset['review_scores_rating'].mean()\n",
    "        cleaned_dataset['review_scores_rating'] = \\\n",
    "                    cleaned_dataset['review_scores_rating'].fillna(rv_mean)\n",
    "                    \n",
    "        print(\"-- Imputing missing beds by median --\")\n",
    "        acc_med = cleaned_dataset['accommodates'].median()\n",
    "        cleaned_dataset['accommodates'] =  \\\n",
    "                    cleaned_dataset['accommodates'].fillna(acc_med)\n",
    "        \n",
    "        print(\"-- Imputing missing bathrooms by median --\")\n",
    "        bath_med = cleaned_dataset['bathrooms'].median()\n",
    "        cleaned_dataset['bathrooms'] = \\\n",
    "                    cleaned_dataset['bathrooms'].fillna(bath_med)\n",
    "        return cleaned_dataset, plot_hist, plot_box\n",
    "\n",
    "  \n",
    "    def _clean_data(cleaned_dataset):\n",
    "        print(\"-- Checking for null values --\")\n",
    "        cleaned_dataset.apply(lambda x: np.all(x==0))\n",
    "        print('''-- Check for negative values --''')\n",
    "\n",
    "        before_clean = len(cleaned_dataset)\n",
    "        cleaned_dataset = cleaned_dataset[cleaned_dataset.price >= 0]\n",
    "        cleaned_dataset = cleaned_dataset[cleaned_dataset.bedrooms >= 0]\n",
    "        cleaned_dataset = cleaned_dataset[cleaned_dataset.beds >= 0]\n",
    "        cleaned_dataset = \\\n",
    "                cleaned_dataset[cleaned_dataset.review_scores_rating >= 0]\n",
    "        cleaned_dataset = cleaned_dataset[cleaned_dataset.accommodates >= 0]\n",
    "        cleaned_dataset = cleaned_dataset[cleaned_dataset.bathrooms >= 0]\n",
    "        after_clean = len(cleaned_dataset)\n",
    "        \n",
    "        records_rem = before_clean - after_clean\n",
    "        \n",
    "        print(\"-- No of records removed: \" + str(records_rem) + \" --\")\n",
    "        \n",
    "        return cleaned_dataset\n",
    "\n",
    "    def _save_data(cleaned_dataset):\n",
    "        cleaned_dataset.to_csv('data.csv', index=True) \n",
    "    \n",
    "    def _data_preprocessing(cleaned_dataset):\n",
    "        print('''-- Variables room_type, cancellation_policy, \n",
    "        neighbourhood_cleansed, instant_bookable are all categorical.''')\n",
    "        \n",
    "        print(\"-- Converting amenities to values --\")\n",
    "        number_amenities = []\n",
    "\n",
    "        for am in cleaned_dataset.amenities:\n",
    "            am = am[1:]\n",
    "            am = am[:-1]\n",
    "            x = am.split()\n",
    "            number_amenities.append(len(x))\n",
    "        \n",
    "        # Appending the amenities to the dataframe.\n",
    "        cleaned_dataset.amenities = number_amenities\n",
    "        \n",
    "        print(\"-- Splitting dependant and independant variables --\")\n",
    "        X = cleaned_dataset.iloc[:, 1:10].values\n",
    "        y = cleaned_dataset.iloc[:, 0].values\n",
    "        \n",
    "        # Enconding categorical variables.\n",
    "        # instant_bookable t, f no dummy variable trap.\n",
    "        labelencoder_X_1 = LabelEncoder()\n",
    "        X[:, 7] = labelencoder_X_1.fit_transform(X[:, 7])   \n",
    "        # room_type yes dummy variable trap\n",
    "        labelencoder_X_2 = LabelEncoder()\n",
    "        X[:, 0] = labelencoder_X_2.fit_transform(X[:, 0])      \n",
    "        # cancellation policy no dummy variable trap.\n",
    "        labelencoder_X_3 = LabelEncoder()\n",
    "        X[:, 8] = labelencoder_X_3.fit_transform(X[:, 8])        \n",
    "        # neighbourhood yes dummy variable trap\n",
    "        labelencoder_X_4 = LabelEncoder()\n",
    "        X[:, 1] = labelencoder_X_4.fit_transform(X[:, 1])\n",
    "        \n",
    "        # removing dummy variables after encoding.\n",
    "        # room_type dummy \n",
    "        onehotencoder = OneHotEncoder(categorical_features = [0])\n",
    "        X = onehotencoder.fit_transform(X).toarray()\n",
    "        X = X[:, 1:]\n",
    "        # Cancelleation plociy.\n",
    "        onehotencoder_1 = OneHotEncoder(categorical_features = [9])\n",
    "        X = onehotencoder_1.fit_transform(X).toarray()\n",
    "        X = X[:, 1:]   \n",
    "        # neighbourhood plociy.\n",
    "        onehotencoder_2 = OneHotEncoder(categorical_features = [5])\n",
    "        X = onehotencoder_2.fit_transform(X).toarray()\n",
    "        X = X[:, 1:]\n",
    "        \n",
    "        X_train, X_test, y_train, y_test = \\\n",
    "                    train_test_split(X, y, test_size = 0.2, random_state = 0)\n",
    "        \n",
    "        print(\"-- Feature scaling the train and test data --\")\n",
    "        # Train\n",
    "        sc = StandardScaler()\n",
    "        X_train = sc.fit_transform(X_train)\n",
    "        X_test = sc.transform(X_test)\n",
    "        \n",
    "        # Test\n",
    "        # Convert the array to 2D\n",
    "        y_train = y_train.reshape(-1, 1)\n",
    "        y_test = y_test.reshape(-1, 1)\n",
    "        sc_test = StandardScaler()\n",
    "        y_train = sc_test.fit_transform(y_train)\n",
    "        y_test = sc_test.transform(y_test)\n",
    "        \n",
    "        return X_train, X_test, y_train, y_test, sc_test\n",
    "\n",
    "    def _ANN_(X_train, y_train, batch_size = 10, epochs = 50):\n",
    "        # Initialising the ANN\n",
    "        classifier = Sequential()\n",
    "    \n",
    "        # Adding the input layer and the first hidden layer\n",
    "        classifier.add(Dense(units = 20, kernel_initializer = 'uniform', \n",
    "                             activation = 'relu', input_dim = 40))\n",
    "        \n",
    "        # Adding the second hidden layer\n",
    "        classifier.add(Dense(units = 20, kernel_initializer = 'uniform', \n",
    "                             activation = 'relu'))\n",
    "        \n",
    "        # Adding the output layer\n",
    "        classifier.add(Dense(units = 1, kernel_initializer = 'uniform'))\n",
    "        \n",
    "        # Compiling the ANN\n",
    "        classifier.compile(optimizer = 'adam', loss = 'mean_squared_error',\n",
    "                           metrics = ['mae'])\n",
    "        \n",
    "        \n",
    "        # Fitting the ANN to the Training set\n",
    "        classifier.fit(X_train, y_train, batch_size = 10, epochs = 50)\n",
    "        \n",
    "        return classifier\n",
    "    \n",
    "    def _predict(X_test, classifier):\n",
    "        y_pred = classifier.predict(X_test)\n",
    "        return y_pred\n",
    "\n",
    "    def _plot_results(y_pred, y_test, sc_test):\n",
    "        y_pred = sc_test.inverse_transform(y_pred)\n",
    "        y_test = sc_test.inverse_transform(y_test)\n",
    "        #Plotting the results.\n",
    "        plt.scatter(np.arange(len(y_pred)),y_pred, color = 'blue')\n",
    "        plt.scatter(np.arange(len(y_pred)), y_test, color = 'red')\n",
    "        plt.show()"
   ]
  },
  {
   "cell_type": "code",
   "execution_count": 26,
   "metadata": {},
   "outputs": [
    {
     "name": "stdout",
     "output_type": "stream",
     "text": [
      "-- Taking the important dependant variables only-- \n",
      " -- Upper and lower fences are: 460.0, 362.0\n"
     ]
    }
   ],
   "source": [
    "if __name__ == '__main__':\n",
    "    # Path name.\n",
    "    path = \"/Users/sandeepkola/Desktop/Kaggle/Project 3 Quantify/Quantiy copy/listings.csv\"\n",
    "    cleaned_dataset = Model._load_data(path)\n",
    "    # Check for nulls.\n",
    "    Model._check_nulls(cleaned_dataset) \n",
    "    # Quantiles\n",
    "    Model._quantile(cleaned_dataset, upper=75, lower=25, k=3)"
   ]
  },
  {
   "cell_type": "code",
   "execution_count": 27,
   "metadata": {},
   "outputs": [
    {
     "name": "stdout",
     "output_type": "stream",
     "text": [
      "-- Building histogram for price variable --\n"
     ]
    },
    {
     "data": {
      "image/png": "[encoded data removed]",
      "text/plain": [
       "<matplotlib.figure.Figure at 0x1c37ddef28>"
      ]
     },
     "metadata": {},
     "output_type": "display_data"
    },
    {
     "name": "stdout",
     "output_type": "stream",
     "text": [
      "-- Building boxplot for price variable --\n"
     ]
    },
    {
     "data": {
      "image/png": "[encoded data removed]",
      "text/plain": [
       "<matplotlib.figure.Figure at 0x1c37d2f2b0>"
      ]
     },
     "metadata": {},
     "output_type": "display_data"
    },
    {
     "name": "stdout",
     "output_type": "stream",
     "text": [
      "-- Removing rows with price gretaer than 4000\n",
      "-- Imputing missing bedrooms by median --\n",
      "-- Imputing missing beds by median --\n",
      "-- Imputing missing review_scores_rating by mean --\n",
      "-- Imputing missing beds by median --\n",
      "-- Imputing missing bathrooms by median --\n"
     ]
    }
   ],
   "source": [
    "# Exploratory data analysis.\n",
    "cleaned_dataset, plot_hist,  plot_box = Model._exploratory_analysis(cleaned_dataset)"
   ]
  },
  {
   "cell_type": "code",
   "execution_count": 28,
   "metadata": {},
   "outputs": [
    {
     "name": "stdout",
     "output_type": "stream",
     "text": [
      "-- Checking for null values --\n",
      "-- Check for negative values --\n",
      "-- No of records removed: 0 --\n"
     ]
    }
   ],
   "source": [
    "# Clean the data.\n",
    "cleaned_dataset = Model._clean_data(cleaned_dataset)"
   ]
  },
  {
   "cell_type": "code",
   "execution_count": 29,
   "metadata": {
    "collapsed": true
   },
   "outputs": [],
   "source": [
    "# Save the data.\n",
    "Model._save_data(cleaned_dataset)"
   ]
  },
  {
   "cell_type": "code",
   "execution_count": 30,
   "metadata": {},
   "outputs": [
    {
     "name": "stdout",
     "output_type": "stream",
     "text": [
      "-- Variables room_type, cancellation_policy, \n",
      "        neighbourhood_cleansed, instant_bookable are all categorical.\n",
      " \n",
      " -- Converting amenities to values --\n",
      "-- Splitting dependant and independant variables --\n",
      "-- Feature scaling the train and test data --\n"
     ]
    }
   ],
   "source": [
    "# Make train and test data.\n",
    "X_train, X_test, y_train, y_test, sc_test = Model._data_preprocessing(cleaned_dataset)"
   ]
  },
  {
   "cell_type": "code",
   "execution_count": 31,
   "metadata": {},
   "outputs": [
    {
     "name": "stdout",
     "output_type": "stream",
     "text": [
      "Epoch 1/50\n",
      "11441/11441 [==============================] - 1s - loss: 0.6007 - mean_absolute_error: 0.3644     \n",
      "Epoch 2/50\n",
      "11441/11441 [==============================] - 0s - loss: 0.5345 - mean_absolute_error: 0.3391     \n",
      "Epoch 3/50\n",
      "11441/11441 [==============================] - 1s - loss: 0.5226 - mean_absolute_error: 0.3322     \n",
      "Epoch 4/50\n",
      "11441/11441 [==============================] - 1s - loss: 0.5136 - mean_absolute_error: 0.3302     \n",
      "Epoch 5/50\n",
      "11441/11441 [==============================] - 0s - loss: 0.5067 - mean_absolute_error: 0.3297     \n",
      "Epoch 6/50\n",
      "11441/11441 [==============================] - 1s - loss: 0.5014 - mean_absolute_error: 0.3280     - ETA: 0s - loss: 0.5903 - mean_absolute\n",
      "Epoch 7/50\n",
      "11441/11441 [==============================] - 1s - loss: 0.4976 - mean_absolute_error: 0.3269     \n",
      "Epoch 8/50\n",
      "11441/11441 [==============================] - 1s - loss: 0.4939 - mean_absolute_error: 0.3263     - ETA: 0s - loss: 0.6682 - mean_absolu\n",
      "Epoch 9/50\n",
      "11441/11441 [==============================] - 1s - loss: 0.4903 - mean_absolute_error: 0.3248     \n",
      "Epoch 10/50\n",
      "11441/11441 [==============================] - 0s - loss: 0.4858 - mean_absolute_error: 0.3236     \n",
      "Epoch 11/50\n",
      "11441/11441 [==============================] - 1s - loss: 0.4818 - mean_absolute_error: 0.3235     \n",
      "Epoch 12/50\n",
      "11441/11441 [==============================] - 1s - loss: 0.4806 - mean_absolute_error: 0.3232     \n",
      "Epoch 13/50\n",
      "11441/11441 [==============================] - 1s - loss: 0.4741 - mean_absolute_error: 0.3236     \n",
      "Epoch 14/50\n",
      "11441/11441 [==============================] - 1s - loss: 0.4776 - mean_absolute_error: 0.3226     \n",
      "Epoch 15/50\n",
      "11441/11441 [==============================] - 0s - loss: 0.4754 - mean_absolute_error: 0.3229     \n",
      "Epoch 16/50\n",
      "11441/11441 [==============================] - 1s - loss: 0.4696 - mean_absolute_error: 0.3225     \n",
      "Epoch 17/50\n",
      "11441/11441 [==============================] - 0s - loss: 0.4699 - mean_absolute_error: 0.3209     \n",
      "Epoch 18/50\n",
      "11441/11441 [==============================] - 0s - loss: 0.4661 - mean_absolute_error: 0.3196     \n",
      "Epoch 19/50\n",
      "11441/11441 [==============================] - 1s - loss: 0.4580 - mean_absolute_error: 0.3186     - ETA: 0s - loss: 0.4842 - mean_absolute_error:\n",
      "Epoch 20/50\n",
      "11441/11441 [==============================] - 1s - loss: 0.4598 - mean_absolute_error: 0.3185     \n",
      "Epoch 21/50\n",
      "11441/11441 [==============================] - 1s - loss: 0.4582 - mean_absolute_error: 0.3192     \n",
      "Epoch 22/50\n",
      "11441/11441 [==============================] - 1s - loss: 0.4550 - mean_absolute_error: 0.3176     \n",
      "Epoch 23/50\n",
      "11441/11441 [==============================] - 1s - loss: 0.4510 - mean_absolute_error: 0.3175     \n",
      "Epoch 24/50\n",
      "11441/11441 [==============================] - 1s - loss: 0.4498 - mean_absolute_error: 0.3171     - ETA: 0s - loss: 0.4623 - mean_absolute_error: 0 - ETA: 0s - loss: 0.5015 - mean_absolute_err\n",
      "Epoch 25/50\n",
      "11441/11441 [==============================] - 1s - loss: 0.4437 - mean_absolute_error: 0.3148     \n",
      "Epoch 26/50\n",
      "11441/11441 [==============================] - 1s - loss: 0.4389 - mean_absolute_error: 0.3154     - ETA: 0s - loss: 0.4290 - mean_absolute_error\n",
      "Epoch 27/50\n",
      "11441/11441 [==============================] - 1s - loss: 0.4373 - mean_absolute_error: 0.3163     \n",
      "Epoch 28/50\n",
      "11441/11441 [==============================] - 1s - loss: 0.4382 - mean_absolute_error: 0.3136     \n",
      "Epoch 29/50\n",
      "11441/11441 [==============================] - 1s - loss: 0.4275 - mean_absolute_error: 0.3139     - ETA: 0s - loss: 0.4188 - mean_absolute_erro\n",
      "Epoch 30/50\n",
      "11441/11441 [==============================] - 1s - loss: 0.4301 - mean_absolute_error: 0.3139     - ETA: 0s - loss: 0.4208 - mean_absolute_er\n",
      "Epoch 31/50\n",
      "11441/11441 [==============================] - 1s - loss: 0.4236 - mean_absolute_error: 0.3127     \n",
      "Epoch 32/50\n",
      "11441/11441 [==============================] - 0s - loss: 0.4223 - mean_absolute_error: 0.3118     - ETA: 0s - loss: 0.4048 - mean_absolute_error: 0.3\n",
      "Epoch 33/50\n",
      "11441/11441 [==============================] - 0s - loss: 0.4209 - mean_absolute_error: 0.3121     \n",
      "Epoch 34/50\n",
      "11441/11441 [==============================] - 1s - loss: 0.4153 - mean_absolute_error: 0.3117     - ETA: 0s - loss: 0.4890 - mean_absolu\n",
      "Epoch 35/50\n",
      "11441/11441 [==============================] - 0s - loss: 0.4138 - mean_absolute_error: 0.3107     \n",
      "Epoch 36/50\n",
      "11441/11441 [==============================] - 0s - loss: 0.4095 - mean_absolute_error: 0.3101     \n",
      "Epoch 37/50\n",
      "11441/11441 [==============================] - 1s - loss: 0.4090 - mean_absolute_error: 0.3084     - ETA: 0s - loss: 0.3638 - mean_absolute_error:  - ETA: 0s - loss: 0.3492 - mean_absolute_error: 0 - ETA: 0s - loss: 0.3842 - mean_absolute_error: 0.\n",
      "Epoch 38/50\n",
      "11441/11441 [==============================] - 1s - loss: 0.4062 - mean_absolute_error: 0.3101     \n",
      "Epoch 39/50\n",
      "11441/11441 [==============================] - 1s - loss: 0.4053 - mean_absolute_error: 0.3093     - ETA: 0s - loss: 0.3949 - mean_absolute_error: 0.30\n",
      "Epoch 40/50\n",
      "11441/11441 [==============================] - 0s - loss: 0.4030 - mean_absolute_error: 0.3083     \n",
      "Epoch 41/50\n",
      "11441/11441 [==============================] - 0s - loss: 0.4047 - mean_absolute_error: 0.3087     \n",
      "Epoch 42/50\n",
      "11441/11441 [==============================] - 1s - loss: 0.3980 - mean_absolute_error: 0.3069     \n",
      "Epoch 43/50\n",
      "11441/11441 [==============================] - 1s - loss: 0.3972 - mean_absolute_error: 0.3071     - ETA: 0s - loss: 0.4456 - mean_absolute_error: 0.2 - ETA: 0s - loss: 0.4384 - mean_absolute_error: 0 - ETA: 0s - loss: 0.3886 - mean_absolute_er\n",
      "Epoch 44/50\n",
      "11441/11441 [==============================] - 1s - loss: 0.4030 - mean_absolute_error: 0.3082     - ETA: 0s - loss: 0.3823 - mean_absolute_erro\n",
      "Epoch 45/50\n",
      "11441/11441 [==============================] - 1s - loss: 0.3947 - mean_absolute_error: 0.3060     - ETA: 0s - loss: 0.4165 - mean_absolut\n",
      "Epoch 46/50\n",
      "11441/11441 [==============================] - 0s - loss: 0.3986 - mean_absolute_error: 0.3067     \n",
      "Epoch 47/50\n",
      "11441/11441 [==============================] - 0s - loss: 0.3919 - mean_absolute_error: 0.3065     \n",
      "Epoch 48/50\n",
      "11441/11441 [==============================] - 0s - loss: 0.4002 - mean_absolute_error: 0.3070     \n",
      "Epoch 49/50\n",
      "11441/11441 [==============================] - 1s - loss: 0.3903 - mean_absolute_error: 0.3059     - ETA: 0s - loss: 0.4375 - mean_absolute\n",
      "Epoch 50/50\n",
      "11441/11441 [==============================] - 1s - loss: 0.3912 - mean_absolute_error: 0.3041     \n"
     ]
    }
   ],
   "source": [
    "# Build the ANN classifier.\n",
    "classifier = Model._ANN_(X_train, y_train, batch_size = 10, epochs = 100)"
   ]
  },
  {
   "cell_type": "code",
   "execution_count": 32,
   "metadata": {
    "collapsed": true
   },
   "outputs": [],
   "source": [
    "# Make the predictions.\n",
    "y_pred =   Model._predict(X_test, classifier)"
   ]
  },
  {
   "cell_type": "code",
   "execution_count": 33,
   "metadata": {},
   "outputs": [
    {
     "data": {
      "image/png": "[encoded data removed]",
      "text/plain": [
       "<matplotlib.figure.Figure at 0x1c37e04470>"
      ]
     },
     "metadata": {},
     "output_type": "display_data"
    }
   ],
   "source": [
    "# Plot the results.\n",
    "Model._plot_results(y_pred, y_test, sc_test)           "
   ]
  },
  {
   "cell_type": "code",
   "execution_count": null,
   "metadata": {
    "collapsed": true
   },
   "outputs": [],
   "source": []
  }
 ],
 "metadata": {
  "kernelspec": {
   "display_name": "Python 3",
   "language": "python",
   "name": "python3"
  },
  "language_info": {
   "codemirror_mode": {
    "name": "ipython",
    "version": 3
   },
   "file_extension": ".py",
   "mimetype": "text/x-python",
   "name": "python",
   "nbconvert_exporter": "python",
   "pygments_lexer": "ipython3",
   "version": "3.6.5"
  }
 },
 "nbformat": 4,
 "nbformat_minor": 2
}
